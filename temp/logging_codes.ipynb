{
 "cells": [
  {
   "cell_type": "code",
   "execution_count": 7,
   "id": "816854d6",
   "metadata": {},
   "outputs": [],
   "source": [
    "import logging\n",
    "from pathlib import Path\n",
    "\n",
    "\n",
    "# Use absolute path or ensure directory creation before logging config | Use caminho absoluto ou garanta a criação do diretório antes da configuração do log\n",
    "LOG_DIR = Path(\"../logging\")\n",
    "LOG_DIR.mkdir(parents=True, exist_ok=True)\n",
    "\n",
    "LOG_FILE = LOG_DIR / \"logging.log\""
   ]
  },
  {
   "cell_type": "code",
   "execution_count": null,
   "id": "80f52dc9",
   "metadata": {},
   "outputs": [],
   "source": [
    "# Configuração básica do logging    | Basic logging configuration\n",
    "logging.basicConfig(level=logging.INFO)\n",
    "\n",
    "# Exemplo de mensagens de log | Example log messages\n",
    "logging.debug(\"Mensagem de debug (não aparece com level=INFO)\")  # Debug message (does not appear with level=INFO)\n",
    "logging.info(\"Iniciando o programa...\")  # Starting the program\n",
    "logging.warning(\"Atenção! Algo incomum aconteceu\")  # Warning message\n",
    "logging.error(\"Erro durante processamento\")  # Error during processing\n",
    "logging.critical(\"Erro crítico! Parando a execução\")  # Critical error, stopping execution"
   ]
  },
  {
   "cell_type": "code",
   "execution_count": 8,
   "id": "51733666",
   "metadata": {},
   "outputs": [],
   "source": [
    "# Configuração avançada do logging com arquivo | Advanced logging configuration with file\n",
    "\n",
    "logging.basicConfig(\n",
    "    filename=LOG_FILE,\n",
    "    level=logging.DEBUG,\n",
    "    format='%(asctime)s - %(levelname)s - %(message)s',\n",
    "    datefmt='%d/%m/%Y %H:%M:%S',\n",
    "    force=True  # Força a reconfiguração do logging se já estiver configurado\n",
    ")\n",
    "\n",
    "# Exemplo de mensagens de log\n",
    "logging.debug(\"Mensagem de debug\")\n",
    "logging.info(\"Mensagem de informação\")\n",
    "logging.warning(\"Mensagem de aviso\")\n",
    "logging.error(\"Mensagem de erro\")\n",
    "logging.info(\"Programa iniciado\")\n",
    "logging.error(\"Erro encontrado\")"
   ]
  },
  {
   "cell_type": "code",
   "execution_count": 9,
   "id": "17dde2cd",
   "metadata": {},
   "outputs": [],
   "source": [
    "# Exemplo de erro com stack trace | Example of error with stack trace\n",
    "\n",
    "logging.basicConfig(level=logging.ERROR, format='%(levelname)s: %(message)s')\n",
    "\n",
    "try:\n",
    "    x = 10 / 0\n",
    "except ZeroDivisionError as e:\n",
    "    logging.error(\"Erro de divisão por zero!\", exc_info=True)  # loga stack trace\n",
    "\n",
    "\n",
    "if __name__ == \"__main__\":\n",
    "    # Executa o script de logging | Runs the logging script\n",
    "    logging.info(\"Script de logging executado com sucesso.\")"
   ]
  },
  {
   "cell_type": "code",
   "execution_count": 10,
   "id": "555164cf",
   "metadata": {},
   "outputs": [
    {
     "name": "stderr",
     "output_type": "stream",
     "text": [
      "meu_logger - INFO - Mensagem informativa do logger personalizado\n",
      "meu_logger - WARNING - Cuidado com a advertência!\n",
      "meu_logger - INFO - Script de logging personalizado executado com sucesso.\n"
     ]
    }
   ],
   "source": [
    "# Criação de um logger personalizado | Creating a custom logger\n",
    "\n",
    "logger = logging.getLogger('meu_logger')\n",
    "logger.setLevel(logging.INFO)\n",
    "\n",
    "# Cria um handler para console\n",
    "ch = logging.StreamHandler()\n",
    "ch.setLevel(logging.INFO)\n",
    "\n",
    "# Define o formato das mensagens no console\n",
    "formatter = logging.Formatter('%(name)s - %(levelname)s - %(message)s')\n",
    "ch.setFormatter(formatter)\n",
    "\n",
    "logger.addHandler(ch)\n",
    "\n",
    "logger.info(\"Mensagem informativa do logger personalizado\")\n",
    "logger.warning(\"Cuidado com a advertência!\")\n",
    "\n",
    "\n",
    "if __name__ == \"__main__\":\n",
    "    # Executa o script de logging personalizado | Runs the custom logging script\n",
    "    logger.info(\"Script de logging personalizado executado com sucesso.\")"
   ]
  },
  {
   "cell_type": "code",
   "execution_count": 11,
   "id": "f85caacc",
   "metadata": {},
   "outputs": [],
   "source": [
    "# Exemplo de função com logging | Example function with logging\n",
    "\n",
    "logging.basicConfig(level=logging.INFO)\n",
    "\n",
    "def dividir(a, b):\n",
    "    logging.info(f\"Tentando dividir {a} por {b}\")\n",
    "    try:\n",
    "        resultado = a / b\n",
    "        logging.info(f\"Resultado: {resultado}\")\n",
    "        return resultado\n",
    "    except ZeroDivisionError:\n",
    "        logging.error(\"Divisão por zero detectada!\", exc_info=True)\n",
    "        return None\n",
    "\n",
    "if __name__ == \"__main__\":\n",
    "    # Testando a função de divisão com logging | Testing the division function with logging\n",
    "    dividir(10, 2)\n",
    "    dividir(5, 0)"
   ]
  }
 ],
 "metadata": {
  "kernelspec": {
   "display_name": "py-code (3.12.11)",
   "language": "python",
   "name": "python3"
  },
  "language_info": {
   "codemirror_mode": {
    "name": "ipython",
    "version": 3
   },
   "file_extension": ".py",
   "mimetype": "text/x-python",
   "name": "python",
   "nbconvert_exporter": "python",
   "pygments_lexer": "ipython3",
   "version": "3.12.11"
  }
 },
 "nbformat": 4,
 "nbformat_minor": 5
}
