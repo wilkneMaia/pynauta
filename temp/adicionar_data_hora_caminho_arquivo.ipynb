{
 "cells": [
  {
   "cell_type": "code",
   "execution_count": null,
   "metadata": {
    "vscode": {
     "languageId": "plaintext"
    }
   },
   "outputs": [],
   "source": [
    "from time import strftime\n",
    "import os, pathlib\n",
    "\n",
    "def st(path, last=True, sep=\"#\"):\n",
    "    p = pathlib.Path(path)\n",
    "    sta = strftime(\"%Y_%m_%d_%H_%M_%S\")\n",
    "    fname = f\"{sta}{sep}{p.stem}\" if last else f\"{p.stem}{sep}{sta}\"\n",
    "    fname += p.suffix\n",
    "    return os.path.normpath(f\"{os.sep}\".join(list(p.parts[:-1] + (fname,))))"
   ]
  }
 ],
 "metadata": {
  "language_info": {
   "name": "python"
  }
 },
 "nbformat": 4,
 "nbformat_minor": 2
}
