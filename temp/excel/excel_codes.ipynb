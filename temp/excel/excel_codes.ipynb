{
 "cells": [
  {
   "cell_type": "code",
   "execution_count": 9,
   "id": "1c23d8e1",
   "metadata": {},
   "outputs": [],
   "source": [
    "import pandas as pd\n",
    "from pathlib import Path\n",
    "import logging\n",
    "from openpyxl import Workbook , load_workbook\n",
    "\n",
    "# Use absolute path or ensure directory creation before logging config | Use caminho absoluto ou garanta a criação do diretório antes da configuração do log\n",
    "LOG_DIR = Path(\"../logging\")\n",
    "LOG_DIR.mkdir(parents=True, exist_ok=True)\n",
    "\n",
    "LOG_FILE = LOG_DIR / \"exel.log\"\n",
    "\n",
    "# Configure logging to write to a file | Confira o arquivo de log\n",
    "logging.basicConfig(\n",
    "    filename=LOG_FILE,\n",
    "    level=logging.INFO,\n",
    "    format=\"%(asctime)s %(levelname)s: %(message)s\",\n",
    "    force=True  # ensures the config overrides existing handlers\n",
    ")"
   ]
  },
  {
   "cell_type": "code",
   "execution_count": 6,
   "id": "7d56f87c",
   "metadata": {},
   "outputs": [
    {
     "name": "stdout",
     "output_type": "stream",
     "text": [
      "     Nome  Idade          Cidade\n",
      "0     Ana     30       São Paulo\n",
      "1  Carlos     25  Rio de Janeiro\n"
     ]
    }
   ],
   "source": [
    "# Função para criar um arquivo Excel com dados de exemplo | Function to create an Excel file with sample data\n",
    "\n",
    "def create_excel_file(path):\n",
    "    \"\"\"Cria um arquivo Excel com dados de exemplo.\"\"\"\n",
    "    path.parent.mkdir(parents=True, exist_ok=True)  # garante que a pasta existe\n",
    "\n",
    "    wb = Workbook()\n",
    "    ws = wb.active\n",
    "    ws.title = \"Dados\"\n",
    "    ws.append([\"Nome\", \"Idade\", \"Cidade\"])\n",
    "    ws.append([\"Ana\", 30, \"São Paulo\"])\n",
    "    ws.append([\"Carlos\", 25, \"Rio de Janeiro\"])\n",
    "    wb.save(path)\n",
    "    logging.info(f\"Excel file created at: {path}\")\n",
    "\n",
    "if __name__ == \"__main__\":\n",
    "    # Caminho da pasta e arquivo\n",
    "    folder_path = Path(\"../excel/temp_folder\")\n",
    "    excel_path = folder_path / \"example.xlsx\"\n",
    "\n",
    "    # Criar arquivo Excel\n",
    "    create_excel_file(excel_path)\n",
    "\n",
    "    # Ler Excel em DataFrame\n",
    "    df = pd.read_excel(excel_path)\n",
    "    logging.info(f\"DataFrame created with shape: {df.shape}\")\n",
    "\n",
    "    # Exibir DataFrame\n",
    "    print(df)"
   ]
  },
  {
   "cell_type": "code",
   "execution_count": null,
   "id": "bd57db08",
   "metadata": {},
   "outputs": [
    {
     "name": "stdout",
     "output_type": "stream",
     "text": [
      "Empty DataFrame\n",
      "Columns: [Nome, Idade, Cidade]\n",
      "Index: []\n"
     ]
    }
   ],
   "source": [
    "# Função para abrir um arquivo Excel existente | Function to open an existing Excel file\n",
    "\n",
    "def create_excel_file(path: Path, sheet_name=\"Dados\", header=None, data=None) -> None:\n",
    "    \"\"\"\n",
    "    Cria um arquivo Excel, com uma planilha contendo header e dados opcionais.\n",
    "    \"\"\"\n",
    "    try:\n",
    "        path.parent.mkdir(parents=True, exist_ok=True)\n",
    "        wb = Workbook()\n",
    "        ws = wb.active\n",
    "        ws.title = sheet_name\n",
    "\n",
    "        if header:\n",
    "            ws.append(header)\n",
    "        else:\n",
    "            for row in data:\n",
    "                ws.append(row)\n",
    "\n",
    "        wb.save(path)\n",
    "        logging.info(f\"Arquivo Excel criado em: {path}\")\n",
    "    except Exception as e:\n",
    "        logging.error(f\"Erro ao criar arquivo Excel {path}: {e}\")\n",
    "        raise\n",
    "\n",
    "if __name__ == \"__main__\":\n",
    "    # Caminho da pasta e arquivo\n",
    "    folder_path = Path(\"../excel/temp_folder\")\n",
    "    excel_path = folder_path / \"example.xlsx\"\n",
    "\n",
    "    # Criar arquivo Excel com dados de exemplo\n",
    "    create_excel_file(excel_path, header=[\"Nome\", \"Idade\", \"Cidade\"], data=[[\"Ana\", 30, \"São Paulo\"], [\"Carlos\", 25, \"Rio de Janeiro\"]])\n",
    "\n",
    "    # Ler Excel em DataFrame\n",
    "    df = pd.read_excel(excel_path)\n",
    "    logging.info(f\"DataFrame criado com shape: {df.shape}\")\n",
    "\n",
    "    # Exibir DataFrame\n",
    "    print(df)"
   ]
  },
  {
   "cell_type": "code",
   "execution_count": 26,
   "id": "1fca5b07",
   "metadata": {},
   "outputs": [
    {
     "name": "stdout",
     "output_type": "stream",
     "text": [
      "     Nome  Idade          Cidade\n",
      "0     Ana     30       São Paulo\n",
      "1  Carlos     25  Rio de Janeiro\n"
     ]
    }
   ],
   "source": [
    "# Função para criar um arquivo Excel apenas se ele não existir | Function to create an Excel file only if it does not exist\n",
    "\n",
    "def create_excel_file_if_not_exists(path: Path, sheet_name=\"Dados\", header=None, data=None) -> None:\n",
    "    try:\n",
    "        if path.exists():\n",
    "            logging.info(f\"Arquivo já existe: {path}\")\n",
    "            return\n",
    "\n",
    "        path.parent.mkdir(parents=True, exist_ok=True)\n",
    "        wb = Workbook()\n",
    "        ws = wb.active\n",
    "        ws.title = sheet_name\n",
    "\n",
    "        if header:\n",
    "            ws.append(header)\n",
    "        if data:\n",
    "            for row in data:\n",
    "                ws.append(row)\n",
    "\n",
    "        wb.save(path)\n",
    "        logging.info(f\"Arquivo Excel criado: {path}\")\n",
    "\n",
    "    except Exception as e:\n",
    "        logging.error(f\"Erro ao criar arquivo Excel {path}: {e}\")\n",
    "        raise  # <-- assim funciona!\n",
    "\n",
    "\n",
    "if __name__ == \"__main__\":\n",
    "    import pandas as pd\n",
    "\n",
    "    logging.basicConfig(level=logging.INFO, format=\"%(asctime)s - %(levelname)s - %(message)s\")\n",
    "\n",
    "    folder_path = Path(\"../excel/temp_folder\")\n",
    "    excel_path = folder_path / \"example_if_not_exists.xlsx\"\n",
    "\n",
    "    create_excel_file_if_not_exists(\n",
    "        excel_path,\n",
    "        header=[\"Nome\", \"Idade\", \"Cidade\"],\n",
    "        data=[\n",
    "            [\"Ana\", 30, \"São Paulo\"],\n",
    "            [\"Carlos\", 25, \"Rio de Janeiro\"]\n",
    "        ]\n",
    "    )\n",
    "\n",
    "    df = pd.read_excel(excel_path)\n",
    "    print(df)"
   ]
  },
  {
   "cell_type": "code",
   "execution_count": 10,
   "id": "a586101a",
   "metadata": {},
   "outputs": [
    {
     "name": "stdout",
     "output_type": "stream",
     "text": [
      "Planilhas no arquivo: ['Dados']\n"
     ]
    }
   ],
   "source": [
    "# Função para abrir um arquivo Excel existente | Function to open an existing Excel file\n",
    "\n",
    "def open_excel_file(path: Path) -> Workbook:\n",
    "    \"\"\"Abre um arquivo Excel existente.\"\"\"\n",
    "    try:\n",
    "        wb = load_workbook(path)\n",
    "        logging.info(f\"Arquivo Excel aberto: {path}\")\n",
    "        return wb\n",
    "    except Exception as e:\n",
    "        logging.error(f\"Erro ao abrir arquivo Excel {path}: {e}\")\n",
    "        raise\n",
    "\n",
    "if __name__ == \"__main__\":\n",
    "    # Caminho do arquivo Excel\n",
    "    excel_path = Path(\"../excel/temp_folder/example.xlsx\")\n",
    "\n",
    "    # Abrir arquivo Excel\n",
    "    wb = open_excel_file(excel_path)\n",
    "\n",
    "    # Exibir nomes das planilhas\n",
    "    print(f\"Planilhas no arquivo: {wb.sheetnames}\")\n",
    "    logging.info(f\"Planilhas no arquivo: {wb.sheetnames}\")\n"
   ]
  },
  {
   "cell_type": "code",
   "execution_count": 11,
   "id": "b154fde5",
   "metadata": {},
   "outputs": [],
   "source": [
    "# Função para adicionar dados a uma aba específica de um arquivo Excel | Function to add data to a specific sheet in an Excel file\n",
    "\n",
    "def add_data_to_sheet(workbook: Workbook, sheet_name: str, data) -> None:\n",
    "    \"\"\"\n",
    "    Adiciona linhas de dados em uma aba (cria a aba se não existir).\n",
    "    \"\"\"\n",
    "    if sheet_name in workbook.sheetnames:\n",
    "        sheet = workbook[sheet_name]\n",
    "    else:\n",
    "        sheet = workbook.create_sheet(sheet_name)\n",
    "\n",
    "    for row in data:\n",
    "        sheet.append(row)\n",
    "\n",
    "    logging.info(f\"Dados adicionados à aba '{sheet_name}'.\")\n",
    "\n",
    "\n",
    "if __name__ == \"__main__\":\n",
    "    # Caminho do arquivo Excel\n",
    "    excel_path = Path(\"../excel/temp_folder/example.xlsx\")\n",
    "\n",
    "    # Abrir arquivo Excel\n",
    "    wb = open_excel_file(excel_path)\n",
    "\n",
    "    # Dados a serem adicionados\n",
    "    new_data = [[\"João\", 28, \"Belo Horizonte\"], [\"Maria\", 22, \"Curitiba\"]]\n",
    "\n",
    "    # Adicionar dados à aba \"Dados\"\n",
    "    add_data_to_sheet(wb, \"Dados\", new_data)\n",
    "\n",
    "    # Salvar alterações\n",
    "    wb.save(excel_path)\n",
    "    logging.info(f\"Arquivo Excel salvo com novos dados: {excel_path}\")"
   ]
  },
  {
   "cell_type": "code",
   "execution_count": 15,
   "id": "6c261d31",
   "metadata": {},
   "outputs": [],
   "source": [
    "# Função para salvar o arquivo Excel em disco | Function to save the Excel file to disk\n",
    "\n",
    "def save_workbook(workbook: Workbook, path: Path) -> None:\n",
    "    \"\"\"Salva o arquivo Excel em disco.\"\"\"\n",
    "    workbook.save(path)\n",
    "    logging.info(f\"Arquivo Excel salvo em: {path}\")\n",
    "\n",
    "\n",
    "if __name__ == \"__main__\":\n",
    "    # Caminho do arquivo Excel\n",
    "    excel_path = Path(\"../excel/temp_folder/example.xlsx\")\n",
    "\n",
    "    # Abrir arquivo Excel\n",
    "    wb = open_excel_file(excel_path)\n",
    "\n",
    "    # Salvar o arquivo Excel\n",
    "    save_workbook(wb, excel_path)\n",
    "    logging.info(f\"Arquivo Excel salvo com sucesso: {excel_path}\")"
   ]
  },
  {
   "cell_type": "code",
   "execution_count": 16,
   "id": "047e4376",
   "metadata": {},
   "outputs": [
    {
     "name": "stdout",
     "output_type": "stream",
     "text": [
      "['Nome', 'Idade', 'Cidade']\n",
      "['João', 28, 'Belo Horizonte']\n",
      "['Maria', 22, 'Curitiba']\n"
     ]
    }
   ],
   "source": [
    "# Função para ler dados de uma aba específica de um arquivo Excel | Function to read data from a specific sheet in an Excel file\n",
    "\n",
    "def read_data_from_sheet(workbook: Workbook, sheet_name: str):\n",
    "    \"\"\"\n",
    "    Lê os dados da aba e retorna como lista de listas.\n",
    "    \"\"\"\n",
    "    if sheet_name not in workbook.sheetnames:\n",
    "        logging.warning(f\"Aba '{sheet_name}' não encontrada no arquivo.\")\n",
    "        return []\n",
    "\n",
    "    sheet = workbook[sheet_name]\n",
    "    data = [list(row) for row in sheet.iter_rows(values_only=True)]\n",
    "    logging.info(f\"Dados lidos da aba '{sheet_name}', total de linhas: {len(data)}\")\n",
    "    return data\n",
    "\n",
    "\n",
    "if __name__ == \"__main__\":\n",
    "    # Caminho do arquivo Excel\n",
    "    excel_path = Path(\"../excel/temp_folder/example.xlsx\")\n",
    "\n",
    "    # Abrir arquivo Excel\n",
    "    wb = open_excel_file(excel_path)\n",
    "\n",
    "    # Ler dados da aba \"Dados\"\n",
    "    data = read_data_from_sheet(wb, \"Dados\")\n",
    "\n",
    "    # Exibir dados lidos\n",
    "    for row in data:\n",
    "        print(row)\n",
    "    logging.info(f\"Dados lidos da aba 'Dados': {data}\")\n"
   ]
  }
 ],
 "metadata": {
  "kernelspec": {
   "display_name": "py-code (3.12.11)",
   "language": "python",
   "name": "python3"
  },
  "language_info": {
   "codemirror_mode": {
    "name": "ipython",
    "version": 3
   },
   "file_extension": ".py",
   "mimetype": "text/x-python",
   "name": "python",
   "nbconvert_exporter": "python",
   "pygments_lexer": "ipython3",
   "version": "3.12.11"
  }
 },
 "nbformat": 4,
 "nbformat_minor": 5
}
