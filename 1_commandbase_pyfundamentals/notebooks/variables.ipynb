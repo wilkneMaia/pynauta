{
 "cells": [
  {
   "cell_type": "markdown",
   "metadata": {},
   "source": [
    "## Variáveis em Python\n",
    "\n",
    "##### por:\n",
    "  <p align=\"left\">\n",
    "    <a href=\"https://bit.ly/3qNXHUN\"><img src=\"https://img.shields.io/badge/-Wilkne%20Maia-0077B5?style=flat&logo=Linkedin&logoColor=white\" alt=\"LinkedIn\"/></a>\n",
    "    <a href=\"https://bit.ly/3CrCmm7\"><img src=\"https://img.shields.io/badge/wilknemaia-D16f37?style=flat&logo=Stackoverflow&logoColor=white\" alt=\"Stack Overflow\"/></a>\n",
    "    <a href=\"https://bit.ly/3HKsmIT\"><img src=\"https://img.shields.io/badge/-@wilkne.maia-%2312100E?style=flat&logo=medium&logoColor=white\" alt=\"Medium\"/></a>\n",
    "    <a href=\"mailto:wilknemaia@gmail.com\"><img src=\"https://img.shields.io/badge/-wilknemaia@gmail.com-D14836?style=flat&logo=Gmail&logoColor=white\" alt=\"Gmail\"/></a>\n",
    "  </p>\n",
    "\n",
    "\n",
    "##### Tecnologias & Ferramentas:\n",
    "\n",
    "<p align=\"left\">\n",
    "  <a href=\"https://developer.mozilla.org/pt-BR/docs/Web/HTML\">\n",
    "  <img src=\"https://raw.githubusercontent.com/devicons/devicon/master/icons/python/python-original-wordmark.svg\" alt=\"Python\" width=\"35px\"/></a><a href=\"https://www.jupyter.org/\">\n",
    "    <img src=\"https://raw.githubusercontent.com/devicons/devicon/master/icons/jupyter/jupyter-original-wordmark.svg\" alt=\"Jupyter\" width=\"35px\"/></a>\n",
    "    <img src=\"https://raw.githubusercontent.com/devicons/devicon/master/icons/vscode/vscode-original-wordmark.svg\" alt=\"VSCode\" width=\"35px\"/></a>\n",
    "    </p>\n",
    "\n",
    "---\n",
    "\n",
    "Em Python, variáveis são usadas para armazenar valores que podem ser reutilizados ao longo do código.\n",
    "\n",
    "Elas funcionam como etiquetas que damos para objetos, facilitando o acesso e a manipulação desses dados.\n",
    "\n",
    "Diferente de muitas outras linguagens de programação, em Python não é necessário declarar o tipo da variável antecipadamente. Basta atribuir um valor, e a linguagem automaticamente entende o tipo de dado que está sendo utilizado.\n",
    "\n",
    "Pense em uma variável como um “nome” que você dá para um valor ou objeto, tornando seu código mais legível e organizado."
   ]
  },
  {
   "cell_type": "markdown",
   "metadata": {},
   "source": [
    "### Atribuindo valores a variáveis\n",
    "\n",
    "Em Python, atribuímos valores a variáveis usando o sinal de igual (`=`). Veja um exemplo simples:"
   ]
  },
  {
   "cell_type": "code",
   "execution_count": 1,
   "metadata": {},
   "outputs": [
    {
     "name": "stdout",
     "output_type": "stream",
     "text": [
      "Valor de x: 42\n"
     ]
    }
   ],
   "source": [
    "# Atribuindo o número 42 à variável x\n",
    "x = 42\n",
    "\n",
    "print(\"Valor de x:\", x)"
   ]
  },
  {
   "cell_type": "markdown",
   "metadata": {},
   "source": [
    "Você pode alterar o **valor** de uma variável a qualquer momento. Basta fazer uma nova atribuição, e a variável passará a armazenar o **novo valor**:"
   ]
  },
  {
   "cell_type": "code",
   "execution_count": 2,
   "metadata": {},
   "outputs": [
    {
     "name": "stdout",
     "output_type": "stream",
     "text": [
      "Valor inicial de x: 42\n",
      "Novo valor de x: 100\n"
     ]
    }
   ],
   "source": [
    "print(\"Valor inicial de x:\", x)\n",
    "\n",
    "# Atribuindo um novo valor à variável x\n",
    "x = 100\n",
    "\n",
    "print(\"Novo valor de x:\", x)"
   ]
  },
  {
   "cell_type": "markdown",
   "metadata": {},
   "source": [
    "### Tipos de Variáveis\n",
    "\n",
    "Em Python, as variáveis podem armazenar diferentes tipos de valores, como números inteiros (integers), números decimais (floats), textos (strings) e valores lógicos (booleanos).\n",
    "\n",
    "Veja exemplos práticos de cada tipo:"
   ]
  },
  {
   "cell_type": "markdown",
   "metadata": {},
   "source": [
    "#### Inteiros (integers)\n",
    "Números inteiros são aqueles sem parte decimal."
   ]
  },
  {
   "cell_type": "code",
   "execution_count": 3,
   "metadata": {},
   "outputs": [
    {
     "name": "stdout",
     "output_type": "stream",
     "text": [
      "42\n"
     ]
    }
   ],
   "source": [
    "# Exemplo de variável inteira\n",
    "x = 42\n",
    "print(x)"
   ]
  },
  {
   "cell_type": "markdown",
   "metadata": {},
   "source": [
    "#### Decimais (floats)\n",
    "Números decimais, ou de ponto flutuante, são representados pelo tipo `float`. \n",
    "A `vírgula`, em Python, serve pra enumeração, e não para casas decimais.\n",
    "Use o ponto (.) como separador decimal."
   ]
  },
  {
   "cell_type": "code",
   "execution_count": 4,
   "metadata": {},
   "outputs": [
    {
     "name": "stdout",
     "output_type": "stream",
     "text": [
      "1.75\n"
     ]
    }
   ],
   "source": [
    "# Exemplo de variável float\n",
    "altura = 1.75\n",
    "print(altura)"
   ]
  },
  {
   "cell_type": "markdown",
   "metadata": {},
   "source": [
    "> Dica: Você também pode converter inteiros ou strings para float usando a função `float()`."
   ]
  },
  {
   "cell_type": "markdown",
   "metadata": {},
   "source": [
    "#### Texto (strings)\n",
    "Strings são sequências de caracteres, usadas para armazenar textos."
   ]
  },
  {
   "cell_type": "code",
   "execution_count": 5,
   "metadata": {},
   "outputs": [
    {
     "name": "stdout",
     "output_type": "stream",
     "text": [
      "Maria\n"
     ]
    }
   ],
   "source": [
    "# Exemplo de variável string\n",
    "nome = \"Maria\"\n",
    "print(nome)"
   ]
  },
  {
   "cell_type": "markdown",
   "metadata": {},
   "source": [
    "#### Booleanos (bool)\n",
    "Variáveis booleanas armazenam apenas dois valores: `True` (verdadeiro) ou `False` (falso)."
   ]
  },
  {
   "cell_type": "code",
   "execution_count": 6,
   "metadata": {},
   "outputs": [
    {
     "name": "stdout",
     "output_type": "stream",
     "text": [
      "True\n"
     ]
    }
   ],
   "source": [
    "# Exemplo de variável booleana\n",
    "aprovado = True\n",
    "print(aprovado)"
   ]
  },
  {
   "cell_type": "markdown",
   "metadata": {},
   "source": [
    "> Dica: Não coloque `aspas` em `True` ou `False`, pois assim seriam interpretados como strings, não como booleanos"
   ]
  },
  {
   "cell_type": "markdown",
   "metadata": {},
   "source": [
    "#### Variáveis compostas (listas, tuplas, dicionários)\n",
    "\n",
    "Além de valores simples, como números e textos, variáveis em Python também podem armazenar coleções de dados. Os tipos mais comuns são:\n",
    "\t•\tListas: Armazenam vários valores em uma única variável. Os itens podem ser alterados.\n",
    "\t•\tTuplas: Semelhantes às listas, mas seus valores não podem ser alterados após a criação.\n",
    "\t•\tDicionários: Armazenam pares de chave e valor, permitindo acesso rápido a informações nomeadas."
   ]
  },
  {
   "cell_type": "code",
   "execution_count": 7,
   "metadata": {},
   "outputs": [
    {
     "name": "stdout",
     "output_type": "stream",
     "text": [
      "['maçã', 'banana', 'laranja']\n",
      "('vermelho', 'verde', 'azul')\n",
      "{'nome': 'Ana', 'idade': 25}\n"
     ]
    }
   ],
   "source": [
    "# Veja exemplos:\n",
    "\n",
    "# Lista\n",
    "frutas = [\"maçã\", \"banana\", \"laranja\"]\n",
    "print(frutas)\n",
    "\n",
    "# Tupla\n",
    "cores = (\"vermelho\", \"verde\", \"azul\")\n",
    "print(cores)\n",
    "\n",
    "# Dicionário\n",
    "pessoa = {\"nome\": \"Ana\", \"idade\": 25}\n",
    "print(pessoa)"
   ]
  },
  {
   "cell_type": "markdown",
   "metadata": {},
   "source": [
    "> Dica: Variáveis compostas são muito úteis para organizar e manipular conjuntos de dados em Python."
   ]
  },
  {
   "cell_type": "markdown",
   "metadata": {},
   "source": [
    "#### Variáveis do tipo None (variável “vazia”)\n",
    "\n",
    "Em Python, o valor especial `None` é usado para indicar que uma variável está “vazia” ou ainda não recebeu um valor definido.\n",
    "Isso é útil quando você quer criar uma variável, mas ainda não sabe qual valor ela terá."
   ]
  },
  {
   "cell_type": "code",
   "execution_count": 8,
   "metadata": {},
   "outputs": [
    {
     "name": "stdout",
     "output_type": "stream",
     "text": [
      "None\n",
      "<class 'NoneType'>\n"
     ]
    }
   ],
   "source": [
    "# Exemplo\n",
    "endereco = None\n",
    "print(endereco)\n",
    "print(type(endereco))"
   ]
  },
  {
   "cell_type": "markdown",
   "metadata": {},
   "source": [
    "Você pode, posteriormente, atribuir um valor real à variável:"
   ]
  },
  {
   "cell_type": "code",
   "execution_count": 9,
   "metadata": {},
   "outputs": [
    {
     "name": "stdout",
     "output_type": "stream",
     "text": [
      "Rua das Flores, 123\n",
      "<class 'str'>\n"
     ]
    }
   ],
   "source": [
    "endereco = \"Rua das Flores, 123\"\n",
    "print(endereco)\n",
    "print(type(endereco))"
   ]
  },
  {
   "cell_type": "markdown",
   "metadata": {},
   "source": [
    "> O uso de `None` é comum em funções que ainda não têm um valor de retorno definido ou para inicializar variáveis que serão preenchidas depois."
   ]
  },
  {
   "cell_type": "markdown",
   "metadata": {},
   "source": [
    "#### Declaração sem atribuição\n",
    "\n",
    "Em Python, não é possível declarar uma variável sem atribuir um valor a ela. \n",
    "Se você tentar usar uma variável antes de definir seu valor, o Python exibirá um erro."
   ]
  },
  {
   "cell_type": "code",
   "execution_count": 10,
   "metadata": {},
   "outputs": [
    {
     "ename": "NameError",
     "evalue": "name 'NONE' is not defined",
     "output_type": "error",
     "traceback": [
      "\u001b[31m---------------------------------------------------------------------------\u001b[39m",
      "\u001b[31mNameError\u001b[39m                                 Traceback (most recent call last)",
      "\u001b[36mCell\u001b[39m\u001b[36m \u001b[39m\u001b[32mIn[10]\u001b[39m\u001b[32m, line 2\u001b[39m\n\u001b[32m      1\u001b[39m \u001b[38;5;66;03m# Exem# Isto causará um erro:\u001b[39;00m\n\u001b[32m----> \u001b[39m\u001b[32m2\u001b[39m \u001b[38;5;28mprint\u001b[39m(\u001b[43mNONE\u001b[49m)\n",
      "\u001b[31mNameError\u001b[39m: name 'NONE' is not defined"
     ]
    }
   ],
   "source": [
    "# Exem# Isto causará um erro:\n",
    "print(NONE)"
   ]
  },
  {
   "cell_type": "markdown",
   "metadata": {},
   "source": [
    "#### Criando Variáveis a Partir de Variáveis\n",
    "\n",
    "Em Python, é possível criar novas variáveis usando valores de variáveis já existentes.\n",
    "Isso é útil para realizar cálculos, criar mensagens personalizadas ou atualizar informações no seu programa."
   ]
  },
  {
   "cell_type": "code",
   "execution_count": 11,
   "metadata": {},
   "outputs": [
    {
     "name": "stdout",
     "output_type": "stream",
     "text": [
      "Olá, Maria!\n"
     ]
    }
   ],
   "source": [
    "nome = \"Maria\"\n",
    "saudacao = \"Olá, \" + nome + \"!\"\n",
    "\n",
    "print(saudacao)"
   ]
  },
  {
   "cell_type": "markdown",
   "metadata": {},
   "source": [
    "Outro exemplo, usando variáveis numéricas:"
   ]
  },
  {
   "cell_type": "code",
   "execution_count": 12,
   "metadata": {},
   "outputs": [
    {
     "name": "stdout",
     "output_type": "stream",
     "text": [
      "A soma é: 42\n"
     ]
    }
   ],
   "source": [
    "a = 40\n",
    "b = 2\n",
    "soma = a + b\n",
    "print(\"A soma é:\", soma)\n"
   ]
  },
  {
   "cell_type": "markdown",
   "metadata": {},
   "source": [
    "> Dica: Você pode combinar variáveis de qualquer tipo compatível para criar novos valores e facilitar o desenvolvimento do seu código."
   ]
  },
  {
   "cell_type": "markdown",
   "metadata": {},
   "source": [
    "### Verificando o Tipo da Variável\n",
    "\n",
    "Em Python, você pode verificar o tipo de uma variável utilizando a função integrada `type()`. \n",
    "Saber o tipo de uma variável é importante porque cada tipo permite operações diferentes e garante que o programa funcione corretamente. \n",
    "Assim, evitamos erros, facilitamos a leitura do código e garantimos que os dados sejam manipulados da maneira certa."
   ]
  },
  {
   "cell_type": "code",
   "execution_count": 14,
   "metadata": {},
   "outputs": [
    {
     "name": "stdout",
     "output_type": "stream",
     "text": [
      "<class 'int'>\n",
      "<class 'float'>\n",
      "<class 'str'>\n",
      "<class 'bool'>\n"
     ]
    }
   ],
   "source": [
    "# Veja alguns exemplos:\n",
    "\n",
    "x = 42\n",
    "print(type(x))  # <class 'int'>\n",
    "\n",
    "altura = 1.75\n",
    "print(type(altura))  # <class 'float'>\n",
    "\n",
    "nome = \"Ana\"\n",
    "print(type(nome))  # <class 'str'>\n",
    "\n",
    "aprovado = True\n",
    "print(type(aprovado))  # <class 'bool'>"
   ]
  },
  {
   "cell_type": "markdown",
   "metadata": {},
   "source": [
    "> Dica: A função `type()` pode ser usada com qualquer variável ou valor em Python."
   ]
  },
  {
   "cell_type": "markdown",
   "metadata": {},
   "source": [
    "### Variáveis são independentes após a atribuição:\n",
    "\n",
    "Quando você cria uma nova variável a partir de outra, elas passam a existir de forma independente. \n",
    "Ou seja, se você alterar o valor de uma delas depois da atribuição, isso não afeta a outra. \n",
    "O relacionamento entre as duas termina no momento em que a cópia é feita."
   ]
  },
  {
   "cell_type": "code",
   "execution_count": 15,
   "metadata": {},
   "outputs": [
    {
     "name": "stdout",
     "output_type": "stream",
     "text": [
      "Criando as variáveis:\n",
      "x: 10\n",
      "y: 10\n",
      "\n",
      "Alterando x para y + 10\n",
      "Novo x: 20\n",
      "y permanece igual: 10\n",
      "\n",
      "Alterando y para y / 2\n",
      "x permanece igual: 20\n",
      "Novo y: 5.0\n"
     ]
    }
   ],
   "source": [
    "# Veja um exemplo prático:\n",
    "print('Criando as variáveis:')\n",
    "x = 10\n",
    "y = x\n",
    "\n",
    "print('x:', x)\n",
    "print('y:', y)\n",
    "\n",
    "print('\\nAlterando x para y + 10')\n",
    "x = y + 10\n",
    "\n",
    "print('Novo x:', x)\n",
    "print('y permanece igual:', y)\n",
    "\n",
    "print('\\nAlterando y para y / 2')\n",
    "y = y / 2\n",
    "\n",
    "print('x permanece igual:', x)\n",
    "print('Novo y:', y)\n"
   ]
  },
  {
   "cell_type": "markdown",
   "metadata": {},
   "source": [
    "### Convenção de nomes para variáveis\n",
    "\n",
    "Escolher bons nomes para variáveis torna seu código mais legível e fácil de entender.\n",
    "Em Python, existem algumas boas práticas que ajudam a manter o padrão e a clareza:\n",
    "\t•\tUse nomes descritivos e em minúsculas, separando palavras com underline (`_`).\n",
    "Exemplo: `nome_completo`, `quantidade_produtos`\n",
    "\t•\tEvite usar palavras reservadas da linguagem, como `class`, `if`, `def`, etc.\n",
    "\t•\tNão comece nomes de variáveis com números.\n",
    "\t•\tNomes de variáveis em Python diferenciam maiúsculas de minúsculas: `idade` e `Idade` são variáveis diferentes."
   ]
  },
  {
   "cell_type": "code",
   "execution_count": 16,
   "metadata": {},
   "outputs": [],
   "source": [
    "# Exemplo de nomes válidos:\n",
    "\n",
    "nome_completo = \"Maria Rita\"\n",
    "idade = 22\n",
    "saldo_conta = 42.0"
   ]
  },
  {
   "cell_type": "code",
   "execution_count": null,
   "metadata": {},
   "outputs": [],
   "source": [
    "# Exemplo de nomes inválidos (não use):\n",
    "\n",
    "2nome = \"João\"   # Não pode começar com número\n",
    "if = 10          # Não pode usar palavra reservada"
   ]
  },
  {
   "cell_type": "markdown",
   "metadata": {},
   "source": [
    ">Dica: Prefira nomes que expliquem o que a variável representa, mesmo que fiquem um pouco maiores. Isso facilita a manutenção do código no futuro."
   ]
  },
  {
   "cell_type": "markdown",
   "metadata": {},
   "source": [
    "### Sensibilidade a maiúsculas e minúsculas\n",
    "\n",
    "Em Python, os nomes das variáveis diferenciam letras maiúsculas de minúsculas. \n",
    "Isso significa que variáveis como `idade`, `Idade` e `IDADE` são consideradas diferentes pela linguagem."
   ]
  },
  {
   "cell_type": "code",
   "execution_count": 17,
   "metadata": {},
   "outputs": [
    {
     "name": "stdout",
     "output_type": "stream",
     "text": [
      "20\n",
      "30\n",
      "40\n"
     ]
    }
   ],
   "source": [
    "# Veja o exemplo:\n",
    "\n",
    "idade = 20\n",
    "Idade = 30\n",
    "IDADE = 40\n",
    "\n",
    "print(idade)  # 20\n",
    "print(Idade)  # 30\n",
    "print(IDADE)  # 40"
   ]
  },
  {
   "cell_type": "markdown",
   "metadata": {},
   "source": [
    "> Atenção: Sempre mantenha um padrão nos nomes das suas variáveis para evitar confusões e erros no código"
   ]
  }
 ],
 "metadata": {
  "kernelspec": {
   "display_name": ".venv",
   "language": "python",
   "name": "python3"
  },
  "language_info": {
   "codemirror_mode": {
    "name": "ipython",
    "version": 3
   },
   "file_extension": ".py",
   "mimetype": "text/x-python",
   "name": "python",
   "nbconvert_exporter": "python",
   "pygments_lexer": "ipython3",
   "version": "3.13.3"
  }
 },
 "nbformat": 4,
 "nbformat_minor": 2
}
